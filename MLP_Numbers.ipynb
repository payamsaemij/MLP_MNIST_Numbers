{
 "cells": [
  {
   "cell_type": "markdown",
   "metadata": {},
   "source": [
    "### Importing libs \n",
    "* torch and tensorflow to work with array and tensors .\n",
    "* torchvision is for training and build model\n",
    "* to transform data to tensors .\n",
    "* DataLoader is for deviding data to batches .\n",
    "* matplotlib is for ploting result .\n",
    "\n"
   ]
  },
  {
   "cell_type": "code",
   "execution_count": 2,
   "metadata": {},
   "outputs": [],
   "source": [
    "import torch\n",
    "import torchvision\n",
    "from torchvision import datasets\n",
    "from torchvision import transforms ### to transform data\n",
    "from torch.utils.data import DataLoader ### setting batch for data\n",
    "import tensorflow as tf\n",
    "DEVICE = torch.device('cuda:0' if torch.cuda.is_available() else 'cpu') \n",
    "\"\"\"enables you to specify the device type responsible to load a tensor into memory. The function expects a string argument specifying the device type.\"\"\"\n",
    "import matplotlib.pyplot as plt\n",
    "import torch.nn.functional as F\n",
    "import time\n",
    "from sklearn.metrics import confusion_matrix, ConfusionMatrixDisplay"
   ]
  },
  {
   "cell_type": "code",
   "execution_count": null,
   "metadata": {},
   "outputs": [],
   "source": []
  }
 ],
 "metadata": {
  "kernelspec": {
   "display_name": "Python 3",
   "language": "python",
   "name": "python3"
  },
  "language_info": {
   "codemirror_mode": {
    "name": "ipython",
    "version": 3
   },
   "file_extension": ".py",
   "mimetype": "text/x-python",
   "name": "python",
   "nbconvert_exporter": "python",
   "pygments_lexer": "ipython3",
   "version": "3.10.0"
  },
  "orig_nbformat": 4
 },
 "nbformat": 4,
 "nbformat_minor": 2
}
